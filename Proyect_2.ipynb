{
  "nbformat": 4,
  "nbformat_minor": 0,
  "metadata": {
    "kernelspec": {
      "display_name": "Python 3",
      "language": "python",
      "name": "python3"
    },
    "language_info": {
      "codemirror_mode": {
        "name": "ipython",
        "version": 3
      },
      "file_extension": ".py",
      "mimetype": "text/x-python",
      "name": "python",
      "nbconvert_exporter": "python",
      "pygments_lexer": "ipython3",
      "version": "3.7.7"
    },
    "colab": {
      "name": "Proyect_2.ipynb",
      "provenance": [],
      "include_colab_link": true
    },
    "accelerator": "GPU"
  },
  "cells": [
    {
      "cell_type": "markdown",
      "metadata": {
        "id": "view-in-github",
        "colab_type": "text"
      },
      "source": [
        "<a href=\"https://colab.research.google.com/github/Oscarcasas92/SVM-analisis-de-cancer/blob/master/Proyect_2.ipynb\" target=\"_parent\"><img src=\"https://colab.research.google.com/assets/colab-badge.svg\" alt=\"Open In Colab\"/></a>"
      ]
    },
    {
      "cell_type": "code",
      "metadata": {
        "id": "5Fy1Z5woURWT",
        "colab_type": "code",
        "colab": {
          "base_uri": "https://localhost:8080/",
          "height": 71
        },
        "outputId": "2044d0e6-8e15-4fa9-9dca-9854441ba267"
      },
      "source": [
        "import os\n",
        "import matplotlib.pyplot as plt\n",
        "from pandas_datareader import DataReader\n",
        "import pandas as pd; import math; import numpy as np\n",
        "import scipy\n",
        "from sklearn import svm\n",
        "#from sklearn import rcca\n",
        "from sklearn.svm import SVC\n",
        "from sklearn.svm import SVR\n",
        "from sklearn import datasets\n",
        "from sklearn.decomposition import PCA\n",
        "from sklearn.discriminant_analysis import LinearDiscriminantAnalysis as lda\n",
        "from sklearn.discriminant_analysis import QuadraticDiscriminantAnalysis as qda\n",
        "from sklearn.model_selection import train_test_split\n",
        "from sklearn.metrics import classification_report, confusion_matrix\n",
        "import matplotlib.pylab as plt\n",
        "from matplotlib.pylab import rcParams\n",
        "from statsmodels.graphics.tsaplots import plot_acf\n",
        "from statsmodels.tsa.stattools import acf\n",
        "from statsmodels.graphics.tsaplots import plot_pacf\n",
        "from statsmodels.tsa.stattools import pacf\n",
        "rcParams['figure.figsize'] = 15, 6\n",
        "from pandas.plotting import register_matplotlib_converters\n",
        "register_matplotlib_converters()"
      ],
      "execution_count": 1,
      "outputs": [
        {
          "output_type": "stream",
          "text": [
            "/usr/local/lib/python3.6/dist-packages/pandas_datareader/compat/__init__.py:7: FutureWarning: pandas.util.testing is deprecated. Use the functions in the public API at pandas.testing instead.\n",
            "  from pandas.util.testing import assert_frame_equal\n"
          ],
          "name": "stderr"
        }
      ]
    },
    {
      "cell_type": "code",
      "metadata": {
        "id": "IE5tY1noURWX",
        "colab_type": "code",
        "colab": {}
      },
      "source": [
        "import os\n",
        "#path=\"C:/Users/ascar casas/Documents/MINERIA DE DATOS/Proyecto\"\n",
        "#os.chdir(path)\n",
        "#os.getcwd()"
      ],
      "execution_count": 0,
      "outputs": []
    },
    {
      "cell_type": "code",
      "metadata": {
        "scrolled": true,
        "id": "8fWmmxMFURWb",
        "colab_type": "code",
        "colab": {
          "base_uri": "https://localhost:8080/",
          "height": 241
        },
        "outputId": "ee809b9d-f6b7-4304-a622-a3ca88c69255"
      },
      "source": [
        "#https://stackabuse.com/implementing-svm-and-kernel-svm-with-pythons-scikit-learn/\n",
        "data1 = pd.read_csv('data1.csv',sep=',')\n",
        "data1.head()\n",
        "\n",
        "X1 = data1.drop('diagnosis', axis=1) #Datos de x no mas\n",
        "y1 = data1['diagnosis'] #Datos de y\n",
        "\n",
        "\n",
        "Xtr, Xts, ytr, yts = train_test_split(X1, y1, test_size = 0.20) #Datos de entrenamiento\n",
        "data1.head()"
      ],
      "execution_count": 5,
      "outputs": [
        {
          "output_type": "execute_result",
          "data": {
            "text/html": [
              "<div>\n",
              "<style scoped>\n",
              "    .dataframe tbody tr th:only-of-type {\n",
              "        vertical-align: middle;\n",
              "    }\n",
              "\n",
              "    .dataframe tbody tr th {\n",
              "        vertical-align: top;\n",
              "    }\n",
              "\n",
              "    .dataframe thead th {\n",
              "        text-align: right;\n",
              "    }\n",
              "</style>\n",
              "<table border=\"1\" class=\"dataframe\">\n",
              "  <thead>\n",
              "    <tr style=\"text-align: right;\">\n",
              "      <th></th>\n",
              "      <th>diagnosis</th>\n",
              "      <th>radius_mean</th>\n",
              "      <th>texture_mean</th>\n",
              "      <th>perimeter_mean</th>\n",
              "      <th>area_mean</th>\n",
              "      <th>smoothness_mean</th>\n",
              "      <th>compactness_mean</th>\n",
              "      <th>concavity_mean</th>\n",
              "      <th>concave points_mean</th>\n",
              "      <th>symmetry_mean</th>\n",
              "      <th>fractal_dimension_mean</th>\n",
              "      <th>radius_se</th>\n",
              "      <th>texture_se</th>\n",
              "      <th>perimeter_se</th>\n",
              "      <th>area_se</th>\n",
              "      <th>smoothness_se</th>\n",
              "      <th>compactness_se</th>\n",
              "      <th>concavity_se</th>\n",
              "      <th>concave points_se</th>\n",
              "      <th>symmetry_se</th>\n",
              "      <th>fractal_dimension_se</th>\n",
              "      <th>radius_worst</th>\n",
              "      <th>texture_worst</th>\n",
              "      <th>perimeter_worst</th>\n",
              "      <th>area_worst</th>\n",
              "      <th>smoothness_worst</th>\n",
              "      <th>compactness_worst</th>\n",
              "      <th>concavity_worst</th>\n",
              "      <th>concave points_worst</th>\n",
              "      <th>symmetry_worst</th>\n",
              "      <th>fractal_dimension_worst</th>\n",
              "    </tr>\n",
              "  </thead>\n",
              "  <tbody>\n",
              "    <tr>\n",
              "      <th>0</th>\n",
              "      <td>0</td>\n",
              "      <td>17.99</td>\n",
              "      <td>10.38</td>\n",
              "      <td>122.80</td>\n",
              "      <td>1001.0</td>\n",
              "      <td>0.11840</td>\n",
              "      <td>0.27760</td>\n",
              "      <td>0.3001</td>\n",
              "      <td>0.14710</td>\n",
              "      <td>0.2419</td>\n",
              "      <td>0.07871</td>\n",
              "      <td>1.0950</td>\n",
              "      <td>0.9053</td>\n",
              "      <td>8.589</td>\n",
              "      <td>153.40</td>\n",
              "      <td>0.006399</td>\n",
              "      <td>0.04904</td>\n",
              "      <td>0.05373</td>\n",
              "      <td>0.01587</td>\n",
              "      <td>0.03003</td>\n",
              "      <td>0.006193</td>\n",
              "      <td>25.38</td>\n",
              "      <td>17.33</td>\n",
              "      <td>184.60</td>\n",
              "      <td>2019.0</td>\n",
              "      <td>0.1622</td>\n",
              "      <td>0.6656</td>\n",
              "      <td>0.7119</td>\n",
              "      <td>0.2654</td>\n",
              "      <td>0.4601</td>\n",
              "      <td>0.11890</td>\n",
              "    </tr>\n",
              "    <tr>\n",
              "      <th>1</th>\n",
              "      <td>0</td>\n",
              "      <td>20.57</td>\n",
              "      <td>17.77</td>\n",
              "      <td>132.90</td>\n",
              "      <td>1326.0</td>\n",
              "      <td>0.08474</td>\n",
              "      <td>0.07864</td>\n",
              "      <td>0.0869</td>\n",
              "      <td>0.07017</td>\n",
              "      <td>0.1812</td>\n",
              "      <td>0.05667</td>\n",
              "      <td>0.5435</td>\n",
              "      <td>0.7339</td>\n",
              "      <td>3.398</td>\n",
              "      <td>74.08</td>\n",
              "      <td>0.005225</td>\n",
              "      <td>0.01308</td>\n",
              "      <td>0.01860</td>\n",
              "      <td>0.01340</td>\n",
              "      <td>0.01389</td>\n",
              "      <td>0.003532</td>\n",
              "      <td>24.99</td>\n",
              "      <td>23.41</td>\n",
              "      <td>158.80</td>\n",
              "      <td>1956.0</td>\n",
              "      <td>0.1238</td>\n",
              "      <td>0.1866</td>\n",
              "      <td>0.2416</td>\n",
              "      <td>0.1860</td>\n",
              "      <td>0.2750</td>\n",
              "      <td>0.08902</td>\n",
              "    </tr>\n",
              "    <tr>\n",
              "      <th>2</th>\n",
              "      <td>0</td>\n",
              "      <td>19.69</td>\n",
              "      <td>21.25</td>\n",
              "      <td>130.00</td>\n",
              "      <td>1203.0</td>\n",
              "      <td>0.10960</td>\n",
              "      <td>0.15990</td>\n",
              "      <td>0.1974</td>\n",
              "      <td>0.12790</td>\n",
              "      <td>0.2069</td>\n",
              "      <td>0.05999</td>\n",
              "      <td>0.7456</td>\n",
              "      <td>0.7869</td>\n",
              "      <td>4.585</td>\n",
              "      <td>94.03</td>\n",
              "      <td>0.006150</td>\n",
              "      <td>0.04006</td>\n",
              "      <td>0.03832</td>\n",
              "      <td>0.02058</td>\n",
              "      <td>0.02250</td>\n",
              "      <td>0.004571</td>\n",
              "      <td>23.57</td>\n",
              "      <td>25.53</td>\n",
              "      <td>152.50</td>\n",
              "      <td>1709.0</td>\n",
              "      <td>0.1444</td>\n",
              "      <td>0.4245</td>\n",
              "      <td>0.4504</td>\n",
              "      <td>0.2430</td>\n",
              "      <td>0.3613</td>\n",
              "      <td>0.08758</td>\n",
              "    </tr>\n",
              "    <tr>\n",
              "      <th>3</th>\n",
              "      <td>0</td>\n",
              "      <td>11.42</td>\n",
              "      <td>20.38</td>\n",
              "      <td>77.58</td>\n",
              "      <td>386.1</td>\n",
              "      <td>0.14250</td>\n",
              "      <td>0.28390</td>\n",
              "      <td>0.2414</td>\n",
              "      <td>0.10520</td>\n",
              "      <td>0.2597</td>\n",
              "      <td>0.09744</td>\n",
              "      <td>0.4956</td>\n",
              "      <td>1.1560</td>\n",
              "      <td>3.445</td>\n",
              "      <td>27.23</td>\n",
              "      <td>0.009110</td>\n",
              "      <td>0.07458</td>\n",
              "      <td>0.05661</td>\n",
              "      <td>0.01867</td>\n",
              "      <td>0.05963</td>\n",
              "      <td>0.009208</td>\n",
              "      <td>14.91</td>\n",
              "      <td>26.50</td>\n",
              "      <td>98.87</td>\n",
              "      <td>567.7</td>\n",
              "      <td>0.2098</td>\n",
              "      <td>0.8663</td>\n",
              "      <td>0.6869</td>\n",
              "      <td>0.2575</td>\n",
              "      <td>0.6638</td>\n",
              "      <td>0.17300</td>\n",
              "    </tr>\n",
              "    <tr>\n",
              "      <th>4</th>\n",
              "      <td>0</td>\n",
              "      <td>20.29</td>\n",
              "      <td>14.34</td>\n",
              "      <td>135.10</td>\n",
              "      <td>1297.0</td>\n",
              "      <td>0.10030</td>\n",
              "      <td>0.13280</td>\n",
              "      <td>0.1980</td>\n",
              "      <td>0.10430</td>\n",
              "      <td>0.1809</td>\n",
              "      <td>0.05883</td>\n",
              "      <td>0.7572</td>\n",
              "      <td>0.7813</td>\n",
              "      <td>5.438</td>\n",
              "      <td>94.44</td>\n",
              "      <td>0.011490</td>\n",
              "      <td>0.02461</td>\n",
              "      <td>0.05688</td>\n",
              "      <td>0.01885</td>\n",
              "      <td>0.01756</td>\n",
              "      <td>0.005115</td>\n",
              "      <td>22.54</td>\n",
              "      <td>16.67</td>\n",
              "      <td>152.20</td>\n",
              "      <td>1575.0</td>\n",
              "      <td>0.1374</td>\n",
              "      <td>0.2050</td>\n",
              "      <td>0.4000</td>\n",
              "      <td>0.1625</td>\n",
              "      <td>0.2364</td>\n",
              "      <td>0.07678</td>\n",
              "    </tr>\n",
              "  </tbody>\n",
              "</table>\n",
              "</div>"
            ],
            "text/plain": [
              "   diagnosis  radius_mean  ...  symmetry_worst  fractal_dimension_worst\n",
              "0          0        17.99  ...          0.4601                  0.11890\n",
              "1          0        20.57  ...          0.2750                  0.08902\n",
              "2          0        19.69  ...          0.3613                  0.08758\n",
              "3          0        11.42  ...          0.6638                  0.17300\n",
              "4          0        20.29  ...          0.2364                  0.07678\n",
              "\n",
              "[5 rows x 31 columns]"
            ]
          },
          "metadata": {
            "tags": []
          },
          "execution_count": 5
        }
      ]
    },
    {
      "cell_type": "code",
      "metadata": {
        "id": "MibOVZPaURWd",
        "colab_type": "code",
        "colab": {
          "base_uri": "https://localhost:8080/",
          "height": 765
        },
        "outputId": "0af5eda4-e2be-40b0-e17c-35677c9be160"
      },
      "source": [
        "#Linear Kernel\n",
        "svclassifier = SVC(kernel='linear')\n",
        "svclassifier.fit(Xtr, ytr) #\n",
        "y_pred = svclassifier.predict(Xts) #Predecir los nuevos x\n",
        "print(confusion_matrix(yts,y_pred))\n",
        "print(classification_report(yts,y_pred))\n",
        "\n",
        "#Polinomial Kernel\n",
        "svclassifier = SVC(kernel='poly', degree=8)\n",
        "svclassifier.fit(Xtr, ytr)\n",
        "y_pred = svclassifier.predict(Xts)\n",
        "print(confusion_matrix(yts,y_pred))\n",
        "print(classification_report(yts,y_pred))\n",
        "\n",
        "#Gaussian Kernel\n",
        "svclassifier = SVC(kernel='rbf')\n",
        "svclassifier.fit(Xtr, ytr)\n",
        "y_pred = svclassifier.predict(Xts)\n",
        "print(confusion_matrix(yts,y_pred))\n",
        "print(classification_report(yts,y_pred))\n",
        "\n",
        "#Sigmoid Kernel\n",
        "svclassifier = SVC(kernel='sigmoid')\n",
        "svclassifier.fit(Xtr, ytr)\n",
        "y_pred = svclassifier.predict(Xts)\n",
        "print(confusion_matrix(yts,y_pred))\n",
        "print(classification_report(yts,y_pred))\n"
      ],
      "execution_count": 6,
      "outputs": [
        {
          "output_type": "stream",
          "text": [
            "[[43  3]\n",
            " [ 1 67]]\n",
            "              precision    recall  f1-score   support\n",
            "\n",
            "           0       0.98      0.93      0.96        46\n",
            "           1       0.96      0.99      0.97        68\n",
            "\n",
            "    accuracy                           0.96       114\n",
            "   macro avg       0.97      0.96      0.96       114\n",
            "weighted avg       0.97      0.96      0.96       114\n",
            "\n",
            "[[36 10]\n",
            " [ 1 67]]\n",
            "              precision    recall  f1-score   support\n",
            "\n",
            "           0       0.97      0.78      0.87        46\n",
            "           1       0.87      0.99      0.92        68\n",
            "\n",
            "    accuracy                           0.90       114\n",
            "   macro avg       0.92      0.88      0.90       114\n",
            "weighted avg       0.91      0.90      0.90       114\n",
            "\n",
            "[[37  9]\n",
            " [ 2 66]]\n",
            "              precision    recall  f1-score   support\n",
            "\n",
            "           0       0.95      0.80      0.87        46\n",
            "           1       0.88      0.97      0.92        68\n",
            "\n",
            "    accuracy                           0.90       114\n",
            "   macro avg       0.91      0.89      0.90       114\n",
            "weighted avg       0.91      0.90      0.90       114\n",
            "\n",
            "[[ 7 39]\n",
            " [23 45]]\n",
            "              precision    recall  f1-score   support\n",
            "\n",
            "           0       0.23      0.15      0.18        46\n",
            "           1       0.54      0.66      0.59        68\n",
            "\n",
            "    accuracy                           0.46       114\n",
            "   macro avg       0.38      0.41      0.39       114\n",
            "weighted avg       0.41      0.46      0.43       114\n",
            "\n"
          ],
          "name": "stdout"
        }
      ]
    },
    {
      "cell_type": "code",
      "metadata": {
        "id": "kxXV4J6bURWh",
        "colab_type": "code",
        "colab": {}
      },
      "source": [
        ""
      ],
      "execution_count": 0,
      "outputs": []
    },
    {
      "cell_type": "code",
      "metadata": {
        "id": "Ut3Q65teURWk",
        "colab_type": "code",
        "colab": {
          "base_uri": "https://localhost:8080/",
          "height": 281
        },
        "outputId": "419ad767-839c-4065-fff1-ba96f3948ba4"
      },
      "source": [
        "#Reducimos dimensionalidad de los datos ya que con kernel se amplio esa dimension\n",
        "pca = PCA(n_components=2)\n",
        "Xr1 = pca.fit(Xtr).transform(Xtr)\n",
        "\n",
        "plt.figure()\n",
        "colors = ['turquoise', 'darkorange']\n",
        "lw = 1\n",
        "target_names = np.array(['Benign','Malign'],dtype='<U10')\n",
        "for color, i, target_name in zip(colors, [0,1], target_names):\n",
        "    plt.scatter(Xr1[ytr == i, 0], Xr1[ytr == i, 1], color=color, alpha=.8, lw=lw,\n",
        "                label=target_names)\n",
        "plt.legend(loc='best', shadow=False, scatterpoints=1)\n",
        "plt.title('PCA of Breast Cancer Wisconsin Data set')\n",
        "\n",
        "#After PCA for dimensional reduction\n",
        "\n",
        "C = 1.0  # SVM regularization parameter\n",
        "clf = svm.SVC(kernel = 'linear',  gamma=0.7, C=C )\n",
        "clf.fit(Xr1, ytr)\n",
        "\n",
        "w = clf.coef_[0]\n",
        "a = -w[0] / w[1]\n",
        "xx = np.linspace(-1000, 4000)\n",
        "yy = a * xx - (clf.intercept_[0]) / w[1]\n",
        "\n",
        "plt.plot(xx, yy, 'k-')\n",
        "plt.show()"
      ],
      "execution_count": 7,
      "outputs": [
        {
          "output_type": "display_data",
          "data": {
            "image/png": "[encoded data removed]",
            "text/plain": [
              "<Figure size 432x288 with 1 Axes>"
            ]
          },
          "metadata": {
            "tags": [],
            "needs_background": "light"
          }
        }
      ]
    },
    {
      "cell_type": "code",
      "metadata": {
        "id": "weizfKMiURWm",
        "colab_type": "code",
        "colab": {}
      },
      "source": [
        "from sklearn.svm import SVR\n",
        "svr=SVR(kernel='linear', C=1.0, epsilon=0.2)\n",
        "svr.fit(Xtr, ytr)\n",
        "pred_y=svr.predict(Xts)"
      ],
      "execution_count": 0,
      "outputs": []
    },
    {
      "cell_type": "code",
      "metadata": {
        "id": "rSl3YnXqURWp",
        "colab_type": "code",
        "colab": {}
      },
      "source": [
        "\n"
      ],
      "execution_count": 0,
      "outputs": []
    },
    {
      "cell_type": "code",
      "metadata": {
        "id": "X9ArWyMnURWs",
        "colab_type": "code",
        "colab": {},
        "outputId": "d422741c-ddb5-4f0a-e05c-5587fc1d6a2b"
      },
      "source": [
        ""
      ],
      "execution_count": 0,
      "outputs": [
        {
          "output_type": "execute_result",
          "data": {
            "text/plain": [
              "array([ 0.48232249,  0.00216953,  1.04582257,  0.02220174,  0.51897583,\n",
              "        0.06257724,  0.9380216 ,  0.98510086,  0.47827624,  0.2365567 ,\n",
              "        0.19419992,  0.92774127,  0.62587333,  0.46929997,  0.99852707,\n",
              "        0.64597661,  0.95184162,  0.63827446,  1.09469744,  0.73975484,\n",
              "        1.11173219,  0.90131633,  0.87410854,  0.44220097, -0.07168917,\n",
              "        1.00700612,  0.97697382,  0.68319785,  0.68162288,  0.1827981 ,\n",
              "        0.89116947,  1.01668193,  0.89372226,  0.74520825,  0.66260221,\n",
              "        0.86563505,  0.7629869 , -0.03818151,  0.92728419,  0.32209353,\n",
              "        0.92267639, -0.18512253,  0.89814952,  0.9526672 ,  0.81570158,\n",
              "       -0.00271379,  0.07006256, -0.00745905,  0.98593685, -0.22649247,\n",
              "        0.85458659,  0.86377544,  0.95326535,  0.1630659 ,  0.9096313 ,\n",
              "       -0.12008039,  1.06672727, -0.54217466,  1.0629603 ,  0.31745308,\n",
              "        1.05259312,  1.03921917,  0.59323872,  1.09464716,  1.07853917,\n",
              "        0.98652433,  1.21227869,  0.94880166, -0.19101342,  0.99108301,\n",
              "        1.07102876,  0.94259485,  0.92855063,  0.22700377,  0.89289652,\n",
              "        0.88395783,  0.56096363,  0.9638769 ,  0.71184072,  1.02972666,\n",
              "        1.04548579,  0.19589404,  1.06263045,  0.70693399, -0.17923428,\n",
              "        1.03006961,  0.36359932,  1.11576207,  0.83117604,  0.9804147 ,\n",
              "        0.90592629,  0.45923761,  0.99819375,  0.39037866,  0.07051985,\n",
              "        0.81049666,  0.83417021,  1.01881247,  0.2859716 ,  0.95388418,\n",
              "        1.08339012,  0.05904697,  1.03215509,  1.00054423,  1.1738389 ,\n",
              "       -0.42603466,  0.86881914,  1.02023777,  0.92214505,  0.65674947,\n",
              "        0.31031418,  0.96261889,  0.41458374,  0.01430742])"
            ]
          },
          "metadata": {
            "tags": []
          },
          "execution_count": 29
        }
      ]
    },
    {
      "cell_type": "code",
      "metadata": {
        "id": "hZdaaOh4URWu",
        "colab_type": "code",
        "colab": {}
      },
      "source": [
        ""
      ],
      "execution_count": 0,
      "outputs": []
    }
  ]
}